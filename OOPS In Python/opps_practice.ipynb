{
 "cells": [
  {
   "cell_type": "markdown",
   "metadata": {},
   "source": [
    "Sample"
   ]
  },
  {
   "cell_type": "code",
   "execution_count": 9,
   "metadata": {},
   "outputs": [
    {
     "name": "stdout",
     "output_type": "stream",
     "text": [
      "ram\n",
      "<__main__.student object at 0x107090c80>\n",
      "shyam\n",
      "<__main__.student object at 0x106630b60>\n"
     ]
    }
   ],
   "source": [
    "class student:\n",
    "    def __init__(self,fullname):\n",
    "        self.name = fullname\n",
    "        # print(self)\n",
    "\n",
    "s1 = student('ram')\n",
    "print(s1.name)\n",
    "print(s1)\n",
    "s2 = student('shyam')\n",
    "print(s2.name)\n",
    "print(s2)"
   ]
  },
  {
   "cell_type": "markdown",
   "metadata": {},
   "source": [
    "\n",
    "\n",
    "\n",
    "\n"
   ]
  },
  {
   "cell_type": "code",
   "execution_count": null,
   "metadata": {},
   "outputs": [],
   "source": []
  },
  {
   "cell_type": "code",
   "execution_count": 13,
   "metadata": {},
   "outputs": [
    {
     "name": "stdout",
     "output_type": "stream",
     "text": [
      "hi Ujjwal your avg marks is : 98.0\n"
     ]
    }
   ],
   "source": [
    "class student:\n",
    "    def __init__(self,name,marks):\n",
    "        self.name = name\n",
    "        self.marks = marks\n",
    "    def average_marks(self):\n",
    "        sum=0\n",
    "        for val in self.marks:\n",
    "            sum+=val\n",
    "        print('hi', self.name, 'your avg marks is :', sum/3)\n",
    "\n",
    "s1 = student('Ujjwal', [99,98,97])\n",
    "s1.average_marks()"
   ]
  },
  {
   "cell_type": "code",
   "execution_count": 14,
   "metadata": {},
   "outputs": [
    {
     "name": "stdout",
     "output_type": "stream",
     "text": [
      "car started\n",
      "electric\n"
     ]
    }
   ],
   "source": [
    "class car:\n",
    "    def __init__(self,type):\n",
    "        self.type=type\n",
    "    @staticmethod\n",
    "    def start():\n",
    "        print('car started')\n",
    "    def stop():\n",
    "        print('car stopped')\n",
    "\n",
    "class toyota(car):\n",
    "    def __init__(self,name,type):\n",
    "        super().__init__(type)\n",
    "        self.name=name\n",
    "        super().start()\n",
    "car1 = toyota('prius','electric')\n",
    "print(car1.type)\n"
   ]
  },
  {
   "cell_type": "code",
   "execution_count": 19,
   "metadata": {},
   "outputs": [
    {
     "name": "stdout",
     "output_type": "stream",
     "text": [
      "94.33333333333333\n"
     ]
    }
   ],
   "source": [
    "class student:\n",
    "    def __init__(self, math, phy, chem):\n",
    "        self.math=math\n",
    "        self.phy=phy\n",
    "        self.chem=chem\n",
    "    @property\n",
    "    def percentage(self):\n",
    "        return ((self.math+self.phy+self.chem)/3) \n",
    "    \n",
    "s1 =student(98,99,100)\n",
    "s1.phy=85\n",
    "print(s1.percentage)"
   ]
  },
  {
   "cell_type": "code",
   "execution_count": 26,
   "metadata": {},
   "outputs": [
    {
     "name": "stdout",
     "output_type": "stream",
     "text": [
      "1 i + 2 j\n",
      "2 i + 3 j\n",
      "3 i + 5 j\n"
     ]
    }
   ],
   "source": [
    "class complex:\n",
    "    def __init__(self,real,img):\n",
    "        self.real=real\n",
    "        self.img=img\n",
    "\n",
    "    def showNumber(self):\n",
    "        print(self.real,'i +',self.img,'j')\n",
    "\n",
    "    def __add__(self,num2):\n",
    "        newReal=self.real+num2.real\n",
    "        newimg=self.img+num2.img\n",
    "        return complex(newReal,newimg)\n",
    "\n",
    "num1 = complex(1,2)\n",
    "num1.showNumber()\n",
    "num2 = complex(2,3)\n",
    "num2.showNumber()\n",
    "num3 = num1+num2\n",
    "num3.showNumber()\n"
   ]
  },
  {
   "cell_type": "code",
   "execution_count": 30,
   "metadata": {},
   "outputs": [
    {
     "name": "stdout",
     "output_type": "stream",
     "text": [
      "File, sample.txt opened in r mode\n",
      "sample.txt file closed\n",
      "sample.txt file closed\n"
     ]
    }
   ],
   "source": [
    "class file_handling:\n",
    "    def __init__(self, filename, mode='r'):\n",
    "        self.filename=filename\n",
    "        self.file=open(filename,mode)\n",
    "        print(f'File, {self.filename} opened in {mode} mode')\n",
    "            \n",
    "            \n",
    "    def __del__(self):\n",
    "        #destrctor that closes the file\n",
    "        if self.file:\n",
    "            self.file.close()\n",
    "            print(f'{self.filename} file closed')\n",
    "            \n",
    "f_h=file_handling('sample.txt','r')\n",
    "del f_h"
   ]
  },
  {
   "cell_type": "code",
   "execution_count": 37,
   "metadata": {},
   "outputs": [
    {
     "name": "stdout",
     "output_type": "stream",
     "text": [
      "Initial balance in the account is  2000\n",
      "enter amount u want to deposit\n",
      "balance after deposit is 3000.0\n",
      "enter amount u want to withdraw\n",
      "balance after withdraw is 500.0\n",
      "final balance is 500.0\n"
     ]
    }
   ],
   "source": [
    "class bank_account:\n",
    "    def __init__(self, acc_no, balance=0):\n",
    "        self.acc_no=acc_no\n",
    "        self.balance=balance\n",
    "    def deposit(self,amount):\n",
    "        self.balance +=amount\n",
    "        return self.balance\n",
    "    def withdraw(self,amount):\n",
    "        self.balance -= amount\n",
    "        return self.balance\n",
    "    def check_balance(self):\n",
    "        return self.balance\n",
    "        \n",
    "bank_details=bank_account(123456,2000)\n",
    "print('Initial balance in the account is ', bank_details.balance )\n",
    "print('enter amount u want to deposit' )\n",
    "amount_d=float(input())\n",
    "print(f'balance after deposit is {bank_details.deposit(amount_d)}')\n",
    "print('enter amount u want to withdraw' )\n",
    "amount_w=float(input())\n",
    "print(f'balance after withdraw is {bank_details.withdraw(amount_w)}')\n",
    "print(f'final balance is {bank_details.check_balance()}')\n",
    "\n",
    "\n",
    "        "
   ]
  },
  {
   "cell_type": "markdown",
   "metadata": {},
   "source": [
    "Write a program to implement a class to represent a bank account. The class should have methods to deposit money, withdraw money, check the balance, and print a statement."
   ]
  },
  {
   "cell_type": "code",
   "execution_count": 41,
   "metadata": {},
   "outputs": [
    {
     "name": "stdout",
     "output_type": "stream",
     "text": [
      "Initial balance in the account is  2000\n",
      "enter amount u want to deposit\n",
      "balance after deposit is 2500.0\n",
      "enter amount u want to withdraw\n",
      "Insufficient Balance\n"
     ]
    }
   ],
   "source": [
    "class bank_account:\n",
    "    def __init__(self, acc_no, balance=0):\n",
    "        self.acc_no=acc_no\n",
    "        self.balance=balance\n",
    "    def deposit(self,amount):\n",
    "        self.balance+=amount\n",
    "        return self.balance\n",
    "    def withdraw(self,amount):\n",
    "        # if amount>self.balance:\n",
    "        #     print('Insufficient Balance')\n",
    "        # else:\n",
    "        self.balance-=amount\n",
    "        return self.balance\n",
    "    def check_balance(self):\n",
    "        return self.balance\n",
    "        \n",
    "bank_details=bank_account(123456,2000)\n",
    "print('Initial balance in the account is ',bank_details.balance )\n",
    "print('enter amount u want to deposit' )\n",
    "amount_d=float(input())\n",
    "print(f'balance after deposit is {bank_details.deposit(amount_d)}')\n",
    "print('enter amount u want to withdraw' )\n",
    "amount_w=float(input())\n",
    "if amount_w>bank_details.check_balance():\n",
    "    print('Insufficient Balance')\n",
    "else:\n",
    "    print(f'balance after withdraw is {bank_details.withdraw(amount_w)}')\n",
    "    print(f'final balance is {bank_details.check_balance()}')\n",
    "\n",
    "\n",
    "        "
   ]
  },
  {
   "cell_type": "code",
   "execution_count": 5,
   "metadata": {},
   "outputs": [
    {
     "name": "stdout",
     "output_type": "stream",
     "text": [
      "Initial balance in the account is  0.5\n",
      "enter amount u want to deposit\n",
      "balance after deposit is 400.5\n",
      "enter amount u want to withdraw\n",
      "Insufficient balance\n"
     ]
    }
   ],
   "source": [
    "class bank_account:\n",
    "    def __init__(self, acc_no, balance=0):\n",
    "        self.acc_no=acc_no\n",
    "        self.balance=balance\n",
    "    def deposit(self,amount):\n",
    "        self.balance+=amount\n",
    "        return self.balance\n",
    "    def withdraw(self,amount):\n",
    "        \n",
    "        self.balance-=amount\n",
    "        return self.balance\n",
    "    def check_balance(self):\n",
    "        return self.balance\n",
    "        \n",
    "bank_details=bank_account(123456,0.5)\n",
    "print('Initial balance in the account is ',bank_details.balance )\n",
    "print('enter amount u want to deposit' )\n",
    "amount_d=float(input())\n",
    "print(f'balance after deposit is {bank_details.deposit(amount_d)}')\n",
    "print('enter amount u want to withdraw' )\n",
    "amount_w=float(input())\n",
    "if amount_w>bank_details.check_balance():\n",
    "    print('Insufficient balance')\n",
    "else:\n",
    "        \n",
    "    print(f'balance after withdraw is {bank_details.withdraw(amount_w)}')\n",
    "    print(f'final balance is {bank_details.check_balance()}')\n",
    "\n",
    "\n",
    "        "
   ]
  },
  {
   "cell_type": "markdown",
   "metadata": {},
   "source": [
    "Write a program to implement a class to represent a student. The class should have methods to get and set the student's name, age, and grades. The class should also have a method to calculate the student's GPA\n",
    "\n"
   ]
  },
  {
   "cell_type": "code",
   "execution_count": 20,
   "metadata": {},
   "outputs": [
    {
     "name": "stdout",
     "output_type": "stream",
     "text": [
      "Ujjwal\n",
      "20\n",
      "[85, 90, 99]\n",
      "91.33333333333333\n",
      "Mukund\n",
      "22\n",
      "[54, 100, 85]\n",
      "79.66666666666667\n"
     ]
    }
   ],
   "source": [
    "class student:\n",
    "    def __init__(self,name,age,grades):\n",
    "        self._name=name\n",
    "        self._age=age\n",
    "        self._grades=grades\n",
    "        \n",
    "    # #getter for name    \n",
    "    # @property\n",
    "    # def name(self):\n",
    "    #     return self._name\n",
    "    # #setter for name\n",
    "    # @name.setter\n",
    "    # def name(self,value):\n",
    "    #     self._name=value\n",
    "        \n",
    "    # #getter for age\n",
    "    # @property\n",
    "    # def age(self):\n",
    "    #     return self._age\n",
    "    # #setter for age   \n",
    "    # @age.setter\n",
    "    # def age(self,value):\n",
    "    #     if value>=0:\n",
    "    #         self._age=value\n",
    "    #     else:\n",
    "    #         print('Invalid age')\n",
    "            \n",
    "    # #getter for grades\n",
    "    # @property\n",
    "    # def grades(self):\n",
    "    #     return self._grades\n",
    "    # #setter for grades\n",
    "    # @grades.setter\n",
    "    # def grades(self,value):\n",
    "    #     self._grades=value\n",
    "    @property\n",
    "    def calculate_gpa(self):\n",
    "        return sum(self._grades)/len(self._grades)\n",
    "        \n",
    "s1=student('Ujjwal', 20, [85,90,99])\n",
    "gpa=s1.calculate_gpa\n",
    "print(s1._name)\n",
    "print(s1._age)\n",
    "print(s1._grades)\n",
    "print(gpa)\n",
    "s1._name='Mukund'\n",
    "s1._age=22\n",
    "s1._grades=[54,100,85]\n",
    "gpa=s1.calculate_gpa\n",
    "print(s1._name)\n",
    "print(s1._age)\n",
    "print(s1._grades)\n",
    "print(gpa)\n",
    "\n",
    "\n",
    "    \n",
    "    \n",
    "    \n",
    "    \n",
    "    \n",
    "    "
   ]
  },
  {
   "cell_type": "code",
   "execution_count": 14,
   "metadata": {},
   "outputs": [
    {
     "name": "stdout",
     "output_type": "stream",
     "text": [
      "Ujjwal\n",
      "20\n",
      "[98, 97, 96]\n",
      "97.0\n",
      "Mukund\n",
      "22\n",
      "[89, 89, 90]\n",
      "modified 89.33333333333333\n"
     ]
    }
   ],
   "source": [
    "class student:\n",
    "    def __init__(self,name,age,grades):\n",
    "        self._name=name\n",
    "        self._age=age\n",
    "        self._grades=grades\n",
    "        \n",
    "    #getter for name    \n",
    "    @property\n",
    "    def name(self):\n",
    "        return self._name\n",
    "    #setter for name\n",
    "    @name.setter\n",
    "    def name(self,value):\n",
    "        self._name=value\n",
    "        \n",
    "    #getter for age\n",
    "    @property\n",
    "    def age(self):\n",
    "        return self._age\n",
    "    #setter for age   \n",
    "    @age.setter\n",
    "    def age(self,value):\n",
    "        if value>=0:\n",
    "            self._age=value\n",
    "        else:\n",
    "            print('Invalid age')\n",
    "            \n",
    "    #getter for grades\n",
    "    @property\n",
    "    def grades(self):\n",
    "        return self._grades\n",
    "    #setter for grades\n",
    "    @grades.setter\n",
    "    def grades(self,value):\n",
    "        self._grades=value\n",
    "        \n",
    "    def calculate_gpa(self):\n",
    "        return sum(self._grades)/len(self._grades)\n",
    "        \n",
    "s1=student('Ujjwal', 20, [98,97,96])\n",
    "gpa=s1.calculate_gpa()\n",
    "print(s1._name)\n",
    "print(s1._age)\n",
    "print(s1._grades)\n",
    "print(gpa)\n",
    "s1._name='Mukund'\n",
    "s1._age=22\n",
    "s1._grades=[89,89,90]\n",
    "gpa=s1.calculate_gpa()\n",
    "print(s1._name)\n",
    "print(s1._age)\n",
    "print(s1._grades)\n",
    "print('modified', gpa)\n",
    "\n",
    "\n",
    "    \n",
    "    \n",
    "    \n",
    "    \n",
    "    \n",
    "    "
   ]
  },
  {
   "cell_type": "code",
   "execution_count": 9,
   "metadata": {},
   "outputs": [
    {
     "name": "stdout",
     "output_type": "stream",
     "text": [
      "Ujjwal\n",
      "20\n",
      "9.4\n",
      "Mukund\n",
      "22\n",
      "8.5\n"
     ]
    }
   ],
   "source": [
    "class student:\n",
    "    def __init__(self,name,age,grades):\n",
    "        self._name=name\n",
    "        self._age=age\n",
    "        self._grades=grades\n",
    "        \n",
    "    #getter for name    \n",
    "    @property\n",
    "    def name(self):\n",
    "        return self._name\n",
    "    #setter for name\n",
    "    @name.setter\n",
    "    def name(self,value):\n",
    "        self._name=value\n",
    "        \n",
    "    #getter for age\n",
    "    @property\n",
    "    def age(self):\n",
    "        return self._age\n",
    "    #setter for age   \n",
    "    @age.setter\n",
    "    def age(self,value):\n",
    "        if value>=0:\n",
    "            self._age=value\n",
    "        else:\n",
    "            print('Invalid age')\n",
    "            \n",
    "    #getter for grades\n",
    "    @property\n",
    "    def grades(self):\n",
    "        return self._grades\n",
    "    #setter for grades\n",
    "    @grades.setter\n",
    "    def grades(self,value):\n",
    "        self._grades=value\n",
    "        \n",
    "s1=student('Ujjwal', 20, 9.4)\n",
    "print(s1._name)\n",
    "print(s1._age)\n",
    "print(s1._grades)\n",
    "s1._name='Mukund'\n",
    "s1._age=22\n",
    "s1._grades=8.5\n",
    "print(s1._name)\n",
    "print(s1._age)\n",
    "print(s1._grades)\n",
    "\n",
    "\n",
    "    \n",
    "    \n",
    "    \n",
    "    \n",
    "    \n",
    "    "
   ]
  },
  {
   "cell_type": "markdown",
   "metadata": {},
   "source": [
    "Write a program to implement a class to represent a car. The class should have methods to get and set the car's make, model, and year. The class should also have methods to start the car, stop the car, and change gears."
   ]
  },
  {
   "cell_type": "code",
   "execution_count": 30,
   "metadata": {},
   "outputs": [
    {
     "name": "stdout",
     "output_type": "stream",
     "text": [
      "make: Toyota\n",
      "model: Camry\n",
      "year: 2024\n",
      "Car Started\n",
      "gear changes to D.\n",
      "gear changes to P.\n",
      "Car stopped\n"
     ]
    }
   ],
   "source": [
    "class car:\n",
    "    def __init__(self,make,model,year):\n",
    "        self.make=make\n",
    "        self.model=model\n",
    "        self.year=year\n",
    "        self.is_running=False\n",
    "        self.gear='P'\n",
    "        \n",
    "    #methods to set car attributes\n",
    "    def set_make(self,make):\n",
    "        self.make=make\n",
    "    def set_model(self,model):\n",
    "        self.model=model\n",
    "    def set_year(self,year):\n",
    "        self.year=year\n",
    "        \n",
    "    #methods to get the car attribute\n",
    "    def get_make(self):\n",
    "        return self.make\n",
    "    def get_model(self):\n",
    "        return self.model\n",
    "    def get_year(self):\n",
    "        return self.year\n",
    "        \n",
    "    def start_car(self):\n",
    "        if not self.is_running:\n",
    "            self.is_running=True\n",
    "            print('Car Started')\n",
    "        else:\n",
    "            print('car is already running')\n",
    "            \n",
    "    def stop_car(self):\n",
    "        if self.is_running:\n",
    "            self.is_runnning=False\n",
    "            print('Car stopped')\n",
    "        else:\n",
    "            print('car is already stopped')\n",
    "            \n",
    "    def change_gear(self,gear):\n",
    "        if self.is_running:\n",
    "            if gear in ['P','R','N','D']:\n",
    "                self.gear=gear\n",
    "                print(f'gear changes to {self.gear}.')\n",
    "            else:\n",
    "                print('Invalid gear selection')\n",
    "        else:\n",
    "            print('Car must be started before changing gear')\n",
    "            \n",
    "my_car = car('Toyota','Camry','2024')\n",
    "print(f'make: {my_car.get_make()}')\n",
    "print(f'model: {my_car.get_model()}')\n",
    "print(f'year: {my_car.get_year()}')\n",
    "\n",
    "my_car.start_car()\n",
    "my_car.change_gear('D')\n",
    "my_car.change_gear('P')\n",
    "my_car.stop_car()\n",
    "\n",
    "            \n",
    "            \n",
    "            \n",
    "            \n",
    "            \n",
    "            \n",
    "            \n",
    "            \n",
    "            \n",
    "            "
   ]
  },
  {
   "cell_type": "code",
   "execution_count": 40,
   "metadata": {},
   "outputs": [
    {
     "name": "stdout",
     "output_type": "stream",
     "text": [
      "make: make\n",
      "model: model\n",
      "year: year\n",
      "Car Started\n",
      "gear changes to D.\n"
     ]
    }
   ],
   "source": [
    "class car:\n",
    "    def __init__(self,make,model,year):\n",
    "        self.make=make\n",
    "        self.model=model\n",
    "        self.year=year\n",
    "        self.is_running=False\n",
    "        self.gear='P'\n",
    "        \n",
    "    #methods to set car attributes\n",
    "    def set_make(self,make):\n",
    "        self.make=make\n",
    "    def set_model(self,model):\n",
    "        self.model=model\n",
    "    def set_year(self,year):\n",
    "        self.year=year\n",
    "        \n",
    "    #methods to get the car attribute\n",
    "    def get_make(self):\n",
    "        return self.make\n",
    "    def get_model(self):\n",
    "        return self.model\n",
    "    def get_year(self):\n",
    "        return self.year\n",
    "        \n",
    "    def start_car(self):\n",
    "        if not self.is_running:\n",
    "            self.is_running=True\n",
    "            print('Car Started')\n",
    "        else:\n",
    "            print('car is already running')\n",
    "            \n",
    "    def stop_car(self):\n",
    "        if self.is_running:\n",
    "            self.is_runnning=False\n",
    "            print('Car stopped')\n",
    "        else:\n",
    "            print('car is already stopped')\n",
    "            \n",
    "    def change_gear(self,gear):\n",
    "        if self.is_running:\n",
    "            if gear in ['P','R','N','D']:#park, reverse, neutal , reverse\n",
    "                self.gear=gear\n",
    "                print(f'gear changes to {self.gear}.')\n",
    "            else:\n",
    "                print('Invalid gear selection')\n",
    "        else:\n",
    "            print('Car must be started before changing gear')\n",
    "  \n",
    "make = input('enter the maker''s company name : ' )\n",
    "model=input('enter the model name : ')\n",
    "year = int(input('enter year''s name : '))\n",
    "my_car = car('make','model','year')\n",
    "print(f'make: {my_car.get_make()}')\n",
    "print(f'model: {my_car.get_model()}')\n",
    "print(f'year: {my_car.get_year()}')\n",
    "\n",
    "gear = input('enter the gear between [P,D,R,N]')\n",
    "if gear=='D' or gear=='R':\n",
    "    my_car.start_car()\n",
    "else:\n",
    "    print('change gear')\n",
    "    gear = input('[P,D,R,N]')\n",
    "my_car.change_gear(gear)\n",
    "if my_car.change_gear == 'P':\n",
    "    \n",
    "    my_car.stop_car()\n",
    "\n",
    "            \n",
    "            \n",
    "            \n",
    "            \n",
    "            \n",
    "            \n",
    "            \n",
    "            \n",
    "            \n",
    "            "
   ]
  },
  {
   "cell_type": "code",
   "execution_count": null,
   "metadata": {},
   "outputs": [],
   "source": []
  },
  {
   "cell_type": "code",
   "execution_count": 39,
   "metadata": {},
   "outputs": [
    {
     "name": "stdout",
     "output_type": "stream",
     "text": [
      "12345\n",
      "5\n"
     ]
    }
   ],
   "source": [
    "class student:\n",
    "    __id=12345\n",
    "    def __init__(self):\n",
    "        print(self.__id)\n",
    "        print(s1.__hide(5))\n",
    "    def __hide(self,value):\n",
    "         self.value=value\n",
    "         return self.value\n",
    "\n",
    "\n",
    "s1=student()\n",
    "# print(s1.__id)\n",
    "# print(s1.__hide(5))"
   ]
  },
  {
   "cell_type": "markdown",
   "metadata": {},
   "source": [
    "Write a program to implement a class to represent a game character. The class should have methods to get and set the character's name, health, attack, and defense. The class should also have methods to move the character, attack enemies, and defend against attacks.\n",
    "\n"
   ]
  },
  {
   "cell_type": "code",
   "execution_count": 44,
   "metadata": {},
   "outputs": [
    {
     "name": "stdout",
     "output_type": "stream",
     "text": [
      "Hero: Health = 100, Attack = 25, defence = 10\n",
      "ememy: Health = 80, Attack = 20, defence = 5\n",
      "Hero moves north\n",
      "Enemy moves south\n",
      "Hero attacks Enemy and deals 20 damage\n",
      "Enemy remaining health is 60\n",
      "Enemy attacks Hero and deals 10 damage\n",
      "Hero remaining health is 90\n",
      "Hero defends 40 incoming attack and deals 30 damage\n",
      "Hero remaining health 60\n"
     ]
    }
   ],
   "source": [
    "class game:\n",
    "    def __init__(self,name,health,attack,defence):\n",
    "        self._name=name\n",
    "        self._health=health\n",
    "        self._attack=attack\n",
    "        self._defence=defence\n",
    "        \n",
    "    #getter and setter for name\n",
    "    @property\n",
    "    def name(self):\n",
    "        return self._name\n",
    "    @name.setter\n",
    "    def name(self,value):\n",
    "        self._name=value\n",
    "        \n",
    "    @property\n",
    "    def health(self):\n",
    "        return self._health\n",
    "    @health.setter\n",
    "    def health(self,value):\n",
    "        if value>=0:\n",
    "            self._health=value\n",
    "        else:\n",
    "            print(f'{self_name} is out of health')\n",
    "    \n",
    "    @property\n",
    "    def attack(self):\n",
    "        return self._attack\n",
    "    @attack.setter\n",
    "    def attack(self, value):\n",
    "        self._attack=value\n",
    "        \n",
    "    @property\n",
    "    def defence(self):\n",
    "        return self._defence\n",
    "    @defence.setter\n",
    "    def defence(self,value):\n",
    "        self._defence=value\n",
    "        \n",
    "    def move(self,direction):\n",
    "        print(f'{self._name} moves {direction}')\n",
    "    \n",
    "    #method to attack enemies\n",
    "    def attack_enemy(self,enemy):\n",
    "        damage=max(0, self._attack-enemy.defence)\n",
    "        enemy.health-=damage\n",
    "        print(f'{self._name} attacks {enemy.name} and deals {damage} damage')\n",
    "        print(f'{enemy.name} remaining health is {enemy.health}')\n",
    "        \n",
    "    #method to defend against attack\n",
    "    def defend(self, incoming_attack):\n",
    "        damage=max(0,incoming_attack-self._defence)\n",
    "        self._health-=damage\n",
    "        print(f'{self._name} defends {incoming_attack} incoming attack and deals {damage} damage')\n",
    "        print(f'{self._name} remaining health {self._health}')\n",
    "        \n",
    "#creating two characters\n",
    "hero=game('Hero',100,25,10)\n",
    "enemy=game('Enemy',80,20,5)\n",
    "\n",
    "#displaying initial stats\n",
    "\n",
    "print(f'Hero: Health = {hero.health}, Attack = {hero.attack}, defence = {hero.defence}')\n",
    "print(f'ememy: Health = {enemy.health}, Attack = {enemy.attack}, defence = {enemy.defence}')\n",
    "\n",
    "#move Character\n",
    "hero.move('north')\n",
    "enemy.move('south')\n",
    "\n",
    "#hero attacks the enemy\n",
    "hero.attack_enemy(enemy)\n",
    "\n",
    "#enemy attacks the hero in return\n",
    "enemy.attack_enemy(hero)\n",
    "\n",
    "#hero defends against a strong attack\n",
    "hero.defend(40)\n",
    "\n",
    "\n",
    "\n",
    "\n",
    "        \n",
    "    \n",
    "        \n",
    "        \n",
    "        \n",
    "    "
   ]
  },
  {
   "cell_type": "markdown",
   "metadata": {},
   "source": [
    "Write a program to implement a class to represent a shopping cart. The class should have methods to add items to the cart, remove items from the cart, calculate the total price of the items in the cart, and checkout.\n",
    "\n"
   ]
  },
  {
   "cell_type": "code",
   "execution_count": 46,
   "metadata": {},
   "outputs": [
    {
     "name": "stdout",
     "output_type": "stream",
     "text": [
      "item in cart after adding is 5\n",
      "item in cart after removing is 2\n",
      "total price is 20\n",
      "your final price of 2 items is 20\n"
     ]
    }
   ],
   "source": [
    "class shopping_cart:\n",
    "    def __init__(self,add,remove,balance):\n",
    "        self.add=add\n",
    "        self.remove=remove\n",
    "        self.balance=balance\n",
    "        \n",
    "    def add_item(self,add):\n",
    "        self.balance+=add\n",
    "        return self.balance\n",
    "        \n",
    "    def remove_item(self,remove):\n",
    "        self.balance-=remove\n",
    "        return self.balance\n",
    "        \n",
    "    def total_price(self,item_value):\n",
    "        self.price=self.balance*item_value\n",
    "        return self.price\n",
    "        \n",
    "    def checkout(self):\n",
    "        print(f'your final price of {self.balance} items is {self.price}')\n",
    "        \n",
    "        \n",
    "    \n",
    "    \n",
    "cart =shopping_cart(0,0,0)\n",
    "print(f'item in cart after adding is {cart.add_item(5)}')\n",
    "print(f'item in cart after removing is {cart.remove_item(3)}')\n",
    "print(f'total price is {cart.total_price(10)}')\n",
    "cart.checkout()\n",
    "\n"
   ]
  },
  {
   "cell_type": "markdown",
   "metadata": {},
   "source": [
    "Write a program to implement a class to represent a to-do list. The class should have methods to add tasks to the list, remove tasks from the list, mark tasks as complete, and print the list of tasks.\n",
    "\n"
   ]
  },
  {
   "cell_type": "code",
   "execution_count": 62,
   "metadata": {},
   "outputs": [
    {
     "name": "stdout",
     "output_type": "stream",
     "text": [
      "Task 'wake up early morning' added to the list\n",
      "Task 'need to read automation book for test' added to the list\n",
      "Task 'dme ppt reading' added to the list\n",
      "'need to read automation book for test' marked as completed\n",
      "'wake up early morning' removed from the list.\n",
      "\n",
      "--- To_Do List ---\n",
      "1. need to read automation book for test [ˇ]\n",
      "2. dme ppt reading [x]\n"
     ]
    }
   ],
   "source": [
    "class todolist:\n",
    "    def __init__(self):\n",
    "        self.tasks=[]\n",
    "    def add_task(self,description):\n",
    "        self.tasks.append({'description':description, 'completed':False})\n",
    "        print(f\"Task '{description}' added to the list\")\n",
    "     \n",
    "     #method to remove a task from the list by its index   \n",
    "    def remove_tasks(self,task_index):\n",
    "        if 0<=task_index<=len(self.tasks):\n",
    "            removed_task=self.tasks.pop(task_index)\n",
    "            print(f\"'{removed_task['description']}' removed from the list.\")\n",
    "        else:\n",
    "            print(f\"task index {task_index} is invalid.\")\n",
    "            \n",
    "    #method to mark a task as complete by its index\n",
    "    def mark_task_complete(self,task_index):\n",
    "        if 0<=task_index<=len(self.tasks):\n",
    "            self.tasks[task_index][\"completed\"]=True\n",
    "            print(f\"'{self.tasks[task_index]['description']}' marked as completed\")\n",
    "        else:\n",
    "            print(f\"task index {task_index} in invalid\")\n",
    "            \n",
    "    #method to print the the list of tasks\n",
    "    def print_tasks(self):\n",
    "        if not self.tasks:\n",
    "            print('your to_do list is empty')\n",
    "        else:\n",
    "            print(\"\\n--- To_Do List ---\")\n",
    "            for i, task in enumerate(self.tasks,1):\n",
    "                status = 'ˇ' if task['completed'] else 'x'\n",
    "                print(f\"{i}. {task['description']} [{status}]\")\n",
    "todo=todolist()\n",
    "todo.add_task('wake up early morning')\n",
    "todo.add_task('need to read automation book for test')\n",
    "todo.add_task('dme ppt reading')\n",
    "\n",
    "todo.mark_task_complete(1)\n",
    "todo.remove_tasks(0)\n",
    "todo.print_tasks()\n"
   ]
  },
  {
   "cell_type": "code",
   "execution_count": 58,
   "metadata": {},
   "outputs": [
    {
     "name": "stdout",
     "output_type": "stream",
     "text": [
      "1 a\n",
      "2 b\n",
      "3 c\n"
     ]
    }
   ],
   "source": [
    "list1=['a','b','c']\n",
    "for i, j in enumerate(list1,1):\n",
    "    print(i,j)"
   ]
  },
  {
   "cell_type": "markdown",
   "metadata": {},
   "source": [
    "Write a program to implement a class to represent a dictionary. The class should have methods to add words to the dictionary, look up words in the dictionary, and print the dictionary."
   ]
  },
  {
   "cell_type": "code",
   "execution_count": 69,
   "metadata": {},
   "outputs": [
    {
     "name": "stdout",
     "output_type": "stream",
     "text": [
      "Add words to their meaning to the dictionary\n",
      "word 'ram' added to the dictionary\n",
      "press 1 to add more else press 0\n",
      "Add words to their meaning to the dictionary\n",
      "word 'shyam' added to the dictionary\n",
      "press 1 to add more else press 0\n",
      "press the word you want to find in the dictionary\n",
      "ram : ram\n",
      "enter 2 to print entire dictionary \n",
      "\n",
      "--- Dictionary ---\n",
      "ram : ram\n",
      "shyam : shyam\n"
     ]
    }
   ],
   "source": [
    "class dictionary:\n",
    "    def __init__(self):\n",
    "        self.dict = {}\n",
    "        \n",
    "    def add_to_dict(self, word, meaning):\n",
    "        self.dict[word] = meaning\n",
    "        print(f\"word '{word}' added to the dictionary\")\n",
    "        \n",
    "    def look_up_words(self,word):\n",
    "        if word in self.dict:\n",
    "            print(f\"{word} : {self.dict[word]}\")\n",
    "        else:\n",
    "            print(f\"word is not present in the dictionary\")\n",
    "            \n",
    "    def print_dictionary(self):\n",
    "        if not self.dict:\n",
    "            print('Dictionary is Empty')\n",
    "        else:\n",
    "            print('\\n--- Dictionary ---')\n",
    "            for word, meaning in self.dict.items():\n",
    "                print(f\"{word} : {meaning}\")\n",
    "        \n",
    "dict1=dictionary()\n",
    "while(1):\n",
    "    print(\"Add words to their meaning to the dictionary\")\n",
    "    words=input('enter words ')\n",
    "    meaning=input('enter meaning ')\n",
    "    dict1.add_to_dict(words, meaning)\n",
    "\n",
    "    print('press 1 to add more else press 0')\n",
    "    value = int(input('1/0'))\n",
    "    if value == 0:\n",
    "        break\n",
    "    \n",
    "\n",
    "print('press the word you want to find in the dictionary')\n",
    "word = input()\n",
    "dict1.look_up_words(word)\n",
    "\n",
    "print('enter 2 to print entire dictionary ')\n",
    "n= int(input())\n",
    "if n==2:\n",
    "    dict1.print_dictionary()\n"
   ]
  },
  {
   "cell_type": "markdown",
   "metadata": {},
   "source": [
    "Write a program to implement a class to represent a stack. The class should have methods to push elements onto the stack, pop elements off the stack, peek at the top element of the stack, and print the stack."
   ]
  },
  {
   "cell_type": "code",
   "execution_count": 77,
   "metadata": {},
   "outputs": [
    {
     "name": "stdout",
     "output_type": "stream",
     "text": [
      "enter the element to push in the stack\n",
      "23  added to the l1\n",
      "enter 1 to push more and 0 stop pushing\n",
      "45  added to the l1\n",
      "enter 1 to push more and 0 stop pushing\n",
      "1  added to the l1\n",
      "enter 1 to push more and 0 stop pushing\n",
      "2  added to the l1\n",
      "enter 1 to push more and 0 stop pushing\n",
      "34  added to the l1\n",
      "enter 1 to push more and 0 stop pushing\n",
      "34 popped out of the l1 \n",
      "peeked element is 2\n",
      "\n",
      " --- reversed stack---\n",
      "2\n",
      "1\n",
      "45\n",
      "23\n",
      "\n",
      " --- stack---\n",
      "23\n",
      "45\n",
      "1\n",
      "2\n"
     ]
    }
   ],
   "source": [
    "class stack:\n",
    "    def __init__(self):\n",
    "        self.l1=[]\n",
    "        \n",
    "    def push(self,data):\n",
    "        self.l1.append(data)\n",
    "        print(f\"{data}  added to the l1\")\n",
    "        \n",
    "    def pop(self):\n",
    "        popped_item=self.l1.pop()\n",
    "        print(f\"{popped_item} popped out of the l1 \")\n",
    "        \n",
    "    def peek(self):\n",
    "        \n",
    "        return self.l1[-1]\n",
    "        \n",
    "        \n",
    "    def print_stack(self):\n",
    "        if not self.l1:\n",
    "            print('stack is empty ')\n",
    "        else:\n",
    "            print('\\n --- reversed stack---')\n",
    "            for i in reversed(self.l1):\n",
    "                # r=len(self.l1)-i\n",
    "                print(i)\n",
    "            print('\\n --- stack---')\n",
    "            for i in (self.l1):\n",
    "                # r=len(self.l1)-i\n",
    "                print(i)\n",
    "\n",
    "        \n",
    "s1=stack()\n",
    "print('enter the element to push in the stack')\n",
    "while(1):\n",
    "    n=input()\n",
    "    s1.push(n)\n",
    "    print('enter 1 to push more and 0 stop pushing')\n",
    "    n1=int(input())\n",
    "    if n1==0:\n",
    "        break\n",
    "    \n",
    "# s1.push(1)\n",
    "# s1.push(2)\n",
    "\n",
    "s1.pop()\n",
    "print(f'peeked element is {s1.peek()}')\n",
    "s1.print_stack()\n",
    "    "
   ]
  },
  {
   "cell_type": "code",
   "execution_count": 79,
   "metadata": {},
   "outputs": [
    {
     "name": "stdout",
     "output_type": "stream",
     "text": [
      "enter the element to push in the stack\n",
      "12  added to the l1\n",
      "enter 1 to push more and 0 stop pushing\n",
      "23  added to the l1\n",
      "enter 1 to push more and 0 stop pushing\n",
      "1  added to the l1\n",
      "enter 1 to push more and 0 stop pushing\n",
      "45  added to the l1\n",
      "enter 1 to push more and 0 stop pushing\n",
      "45 popped out of the l1 \n",
      "peeked element is 1\n",
      "\n",
      "---stack---\n",
      "12\n",
      "23\n",
      "1\n"
     ]
    }
   ],
   "source": [
    "class stack:\n",
    "    def __init__(self):\n",
    "        self.l1=[]\n",
    "        \n",
    "    def push(self,data):\n",
    "        self.l1.append(data)\n",
    "        print(f\"{data}  added to the l1\")\n",
    "        \n",
    "    def pop(self):\n",
    "        popped_item=self.l1.pop()\n",
    "        print(f\"{popped_item} popped out of the l1 \")\n",
    "        \n",
    "    def peek(self):\n",
    "        return self.l1[-1]\n",
    "        \n",
    "        \n",
    "    def print_stack(self):\n",
    "        if not self.l1:\n",
    "            print('stack is empty ')\n",
    "        else:\n",
    "            print('\\n---stack---')\n",
    "            for i in self.l1:\n",
    "                print(i)\n",
    "        \n",
    "s1=stack()\n",
    "print('enter the element to push in the stack')\n",
    "while(1):\n",
    "    n=input()\n",
    "    s1.push(n)\n",
    "    print('enter 1 to push more and 0 stop pushing')\n",
    "    n1=int(input())\n",
    "    if n1==0:\n",
    "        break\n",
    "    \n",
    "# s1.push(1)\n",
    "# s1.push(2)\n",
    "s1.pop()\n",
    "print(f\"peeked element is {s1.peek()}\")\n",
    "s1.print_stack()\n",
    "    "
   ]
  },
  {
   "cell_type": "markdown",
   "metadata": {},
   "source": [
    "Write a program to implement a class to represent a set. The class should have methods to add elements to the set, remove elements from the set, check if an element is in the set, and print the set.\n",
    "\n"
   ]
  },
  {
   "cell_type": "code",
   "execution_count": 81,
   "metadata": {},
   "outputs": [
    {
     "name": "stdout",
     "output_type": "stream",
     "text": [
      "10 added in set\n",
      "20 added in set\n",
      "30 added in set\n",
      "40 added in set\n",
      "50 added in set\n",
      "Set elements : 40 10 50 20 30 \n"
     ]
    }
   ],
   "source": [
    "class myset:\n",
    "    def __init__(self):\n",
    "        self.set_element = set()\n",
    "        \n",
    "    def add(self,element):\n",
    "        self.set_element.add(element)\n",
    "        print(f\"{element} added in set\")\n",
    "        \n",
    "    def remove(self,element):\n",
    "        if element in self.set_element:\n",
    "            self.set_element.remove(element)\n",
    "            print(f\"{element} removed in set\")\n",
    "        else:\n",
    "            print(f\"{element} is not in set\")\n",
    "            \n",
    "    def contain(self,element):\n",
    "        if element in self.set_element:\n",
    "            print(f\"{element} is in set\")\n",
    "        else:\n",
    "            print(f\"{element} is not in set\")\n",
    "            \n",
    "    def print_set(self):\n",
    "        if not self.set_element:\n",
    "            print('set is empty')\n",
    "        else:\n",
    "            print('Set elements : ',end='')\n",
    "            for i in self.set_element:\n",
    "                print(i,end=' ')\n",
    "            print()\n",
    "            \n",
    "my_set=myset()  \n",
    "my_set.add(10)\n",
    "my_set.add(20)\n",
    "my_set.add(30)\n",
    "my_set.add(40)\n",
    "my_set.add(50)\n",
    "\n",
    "# my_set.remove(1)\n",
    "# my_set.remove(10)\n",
    "\n",
    "# my_set.contain(20)\n",
    "\n",
    "my_set.print_set()\n",
    "            \n",
    "        "
   ]
  },
  {
   "cell_type": "code",
   "execution_count": 83,
   "metadata": {},
   "outputs": [
    {
     "name": "stdout",
     "output_type": "stream",
     "text": [
      "letters 13 digit 3\n"
     ]
    }
   ],
   "source": [
    "sentence=input()\n",
    "letter=0\n",
    "digit=0\n",
    "for x in sentence:\n",
    "    if 'a'<=x<='z'or 'A'<=x<='Z':\n",
    "        letter+=1\n",
    "    elif '0'<=x<='9':\n",
    "        digit+=1\n",
    "print('letters',letter,'digit',digit)\n",
    "    \n",
    "    \n",
    "    \n",
    "    \n"
   ]
  }
 ],
 "metadata": {
  "kernelspec": {
   "display_name": "base",
   "language": "python",
   "name": "python3"
  },
  "language_info": {
   "codemirror_mode": {
    "name": "ipython",
    "version": 3
   },
   "file_extension": ".py",
   "mimetype": "text/x-python",
   "name": "python",
   "nbconvert_exporter": "python",
   "pygments_lexer": "ipython3",
   "version": "3.12.2"
  }
 },
 "nbformat": 4,
 "nbformat_minor": 2
}
